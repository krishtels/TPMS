{
 "cells": [
  {
   "cell_type": "markdown",
   "metadata": {},
   "source": [
    "#  Статистика"
   ]
  },
  {
   "cell_type": "code",
   "execution_count": 98,
   "metadata": {},
   "outputs": [],
   "source": [
    "import numpy as np\n",
    "import matplotlib.pyplot as plt\n",
    "import math\n",
    "np.random.seed(42)"
   ]
  },
  {
   "cell_type": "code",
   "execution_count": 99,
   "metadata": {},
   "outputs": [],
   "source": [
    "kol_dict = get_kolmagorov_values()\n",
    "betta_tb = confidence_interval()\n",
    "amount_of_intervals = 50\n",
    "betta = 0.8\n",
    "step = 1"
   ]
  },
  {
   "cell_type": "code",
   "execution_count": 6,
   "metadata": {},
   "outputs": [],
   "source": [
    "def math_exp(x):\n",
    "    return sum(x)/len(x)"
   ]
  },
  {
   "cell_type": "code",
   "execution_count": 7,
   "metadata": {},
   "outputs": [],
   "source": [
    "def variance(x):\n",
    "    return (sum([i**2 for i in x])/len(x) - math_exp(x)**2)/(len(x)-1)*len(x)"
   ]
  },
  {
   "cell_type": "code",
   "execution_count": 103,
   "metadata": {},
   "outputs": [],
   "source": [
    "def examine_set(set_name):\n",
    "    print(f\"Set:{set_name}\\n\")\n",
    "    with open(set_name, 'r') as f:\n",
    "        x = [float(i) for i in f.readline().split(',')]\n",
    "        x.sort()\n",
    "        \n",
    "        M = math_exp(x)\n",
    "        D = variance(x)\n",
    "        print(\"Math Expectation - \", M, \" Unbiased Variance - \", D)\n",
    "        print(\"Histogramm of experimental data\")\n",
    "        plot_histogramm(x)\n",
    "        \n",
    "        xx, probArr = equal_length_inter(x, step)\n",
    "        F = probArr.copy()\n",
    "        for i in range(1, len(xx)):\n",
    "            F[i] += F[i - 1]\n",
    "    \n",
    "        print(\"Uniform\")\n",
    "        # calculate a and b using M = (a+b)/2 D=(b-a)**2/2\n",
    "        a = M - (3 * D ** 0.5)\n",
    "        b = M + ((3 * D ** 0.5))\n",
    "        plot_uniform(a, b, len(x))\n",
    "        check_uniform(x, a, b, xx, F)\n",
    "        \n",
    "        print(\"Exponential\")\n",
    "        plot_exponential(M, len(x))\n",
    "        # M = 1/lambda\n",
    "        check_exponential(x, 1/M, xx, F)\n",
    "        \n",
    "        print(\"Normal\")\n",
    "        plot_normal(M, D ** 0.5, len(x))\n",
    "        check_normal(x, M, D ** 0.5, xx, F)\n",
    "        \n",
    "        print(\"Geometric\")\n",
    "        p = 1/M # Biased geom: M=1/p\n",
    "        plot_geometric(p, len(x))\n",
    "        check_geometric(x, p, xx, F)\n",
    "        \n",
    "        print(\"Poisson\")         \n",
    "        plot_poisson(M, len(x))\n",
    "        check_poisson(x, M, xx, F)\n",
    "        # M = lambda\n",
    "        \n",
    "        print(\"Binomial\")\n",
    "        p = M/len(x) # M = np\n",
    "        plot_binomial(p, len(x))\n",
    "        check_binomial(x, p, len(x), xx, F)\n",
    "        \n",
    "        print(f\"Confident interval for Math Expression: b={betta} - {math_exp_conf_interval(betta, M, D, len(x))}\")\n",
    "        print(f\"Confident interval for Variance: b={betta} - {variance_conf_interval(x, M, D, betta)}\")"
   ]
  },
  {
   "cell_type": "markdown",
   "metadata": {},
   "source": [
    "### Построение графиков различных законов распределения"
   ]
  },
  {
   "cell_type": "code",
   "execution_count": 101,
   "metadata": {},
   "outputs": [],
   "source": [
    "def plot_histogramm(x):\n",
    "    plt.hist(x, density=True, bins=1000)\n",
    "    plt.ylabel('Probability')\n",
    "    plt.xlabel('Data')\n",
    "    plt.show()"
   ]
  },
  {
   "cell_type": "code",
   "execution_count": 10,
   "metadata": {},
   "outputs": [],
   "source": [
    "def plot_uniform(a, b, n):\n",
    "    uniformArr = np.random.uniform(a, b, size = n)\n",
    "    \n",
    "    plt.hist(uniformArr, density=True, bins=amount_of_intervals)\n",
    "    plt.ylabel('Probability')\n",
    "    plt.xlabel('Data');\n",
    "    plt.show()"
   ]
  },
  {
   "cell_type": "code",
   "execution_count": 11,
   "metadata": {},
   "outputs": [],
   "source": [
    "def plot_exponential(lamb, n):\n",
    "    exponentialArr = np.random.exponential(scale = lamb, size = n)\n",
    "    \n",
    "    plt.hist(exponentialArr, density = True, bins = amount_of_intervals)\n",
    "    plt.ylabel('Probability')\n",
    "    plt.xlabel('Data');\n",
    "    plt.show()"
   ]
  },
  {
   "cell_type": "code",
   "execution_count": 12,
   "metadata": {},
   "outputs": [],
   "source": [
    "def plot_normal(m, sigm, n):\n",
    "    normalArr = np.random.normal(m, sigm, n)\n",
    "    \n",
    "    plt.hist(normalArr, density = True, bins = amount_of_intervals)\n",
    "    plt.ylabel('Probability')\n",
    "    plt.xlabel('Data');\n",
    "    plt.show()"
   ]
  },
  {
   "cell_type": "code",
   "execution_count": 13,
   "metadata": {},
   "outputs": [],
   "source": [
    "def plot_geometric(P, n):\n",
    "    geometricArr = np.random.geometric(p = P, size = n)\n",
    "    geometricArr.sort()\n",
    "    \n",
    "    plt.hist(geometricArr, density = True, bins = geometricArr[-1] - geometricArr[0] + 1)\n",
    "    plt.ylabel('Probability')\n",
    "    plt.xlabel('Data');\n",
    "    plt.show()"
   ]
  },
  {
   "cell_type": "code",
   "execution_count": 14,
   "metadata": {},
   "outputs": [],
   "source": [
    "def plot_poisson(M, n):\n",
    "    poissonArr = np.random.poisson(M, n)\n",
    "    poissonArr.sort()\n",
    "    \n",
    "    plt.hist(poissonArr, density = True, bins = poissonArr[-1] - poissonArr[0] + 1)\n",
    "    plt.ylabel('Probability')\n",
    "    plt.xlabel('Data');\n",
    "    plt.show()"
   ]
  },
  {
   "cell_type": "code",
   "execution_count": 15,
   "metadata": {},
   "outputs": [],
   "source": [
    "def plot_binomial(p, n):\n",
    "    binomialArr = np.random.binomial(n, p, size = n)\n",
    "    binomialArr.sort()\n",
    "    \n",
    "    plt.hist(binomialArr, density = True, bins = binomialArr[-1] - binomialArr[0] + 1)\n",
    "    plt.ylabel('Probability')\n",
    "    plt.xlabel('Data');\n",
    "    plt.show()"
   ]
  },
  {
   "cell_type": "markdown",
   "metadata": {},
   "source": [
    "### Критерий Колмагорова"
   ]
  },
  {
   "cell_type": "code",
   "execution_count": 16,
   "metadata": {},
   "outputs": [],
   "source": [
    "def get_kolmagorov_values():\n",
    "    with open(\"kolmagorov.txt\", 'r') as kolmag:\n",
    "        kol_dict = {}\n",
    "        for line in kolmag:\n",
    "            line = line.strip().split()\n",
    "            kol_dict[float(line[0])] = float(line[1])\n",
    "            \n",
    "        return kol_dict   "
   ]
  },
  {
   "cell_type": "code",
   "execution_count": 17,
   "metadata": {},
   "outputs": [],
   "source": [
    "def kolmag(lamb):\n",
    "    for key in kol_dict.keys():\n",
    "            if key >= lamb:\n",
    "                return kol_dict[key]\n",
    "            \n",
    "    return 0"
   ]
  },
  {
   "cell_type": "markdown",
   "metadata": {},
   "source": [
    "### Проверка распределений"
   ]
  },
  {
   "cell_type": "code",
   "execution_count": 77,
   "metadata": {},
   "outputs": [],
   "source": [
    "def equal_length_inter(x, step):\n",
    "    temp, i, j = {}, 0, 0\n",
    "    \n",
    "    for i in x:\n",
    "        tmp = 0\n",
    "        f = temp.get(i, 0)\n",
    "        f+=1\n",
    "        temp[i] = f\n",
    "    \n",
    "    left, right = x[0], x[0]+step\n",
    "    xx = []\n",
    "    prob = []\n",
    "    while left < x[-1]:\n",
    "        sum_int = 0\n",
    "        for i in temp.keys():\n",
    "            if left <= i < right:\n",
    "                sum_int += temp[i]\n",
    "                \n",
    "        xx.append((left+right)/2)\n",
    "        prob.append(sum_int/len(x))\n",
    "        right+= step\n",
    "        left += step\n",
    "    xx.sort()\n",
    "    return xx, prob"
   ]
  },
  {
   "cell_type": "code",
   "execution_count": 19,
   "metadata": {},
   "outputs": [],
   "source": [
    "def check_uniform(x, a, b, xx, F):\n",
    "    delta = 0\n",
    "    for i in range(0,len(xx)):\n",
    "        f_theory = F_uniform(xx[i], a, b)\n",
    "        a = abs(F[i] - f_theory)\n",
    "        delta = max(delta, a)\n",
    "        i += 1\n",
    "        \n",
    "    print(f\"Kolmagorov criteria:\\nLambda for uniform - {delta * (len(xx) ** 0.5)}\")\n",
    "    print(f\"Uniform probability - {kolmag(delta * (len(xx) ** 0.5))}\\n\")"
   ]
  },
  {
   "cell_type": "code",
   "execution_count": 55,
   "metadata": {},
   "outputs": [],
   "source": [
    "def check_geometric(x, p, xx, F):\n",
    "    delta = 0\n",
    "    for i in range(0,len(xx)):\n",
    "        f_theory = F_geometric(xx[i], p)\n",
    "        a = abs(F[i] - f_theory)\n",
    "        delta = max(delta, a)\n",
    "        i += 1\n",
    "    \n",
    "    print(f\"Kolmagorov criteria:\\nLambda for geometric - {delta * (len(xx) ** 0.5)}\")\n",
    "    print(f\"Geometric probability - {kolmag(delta * (len(xx) ** 0.5))}\\n\")"
   ]
  },
  {
   "cell_type": "code",
   "execution_count": 54,
   "metadata": {},
   "outputs": [],
   "source": [
    "def check_binomial(x, p, n, xx, F):\n",
    "    delta = 0\n",
    "    for i in range(0,len(xx)):\n",
    "        f_theory = F_binomial(xx[i], p, n)\n",
    "        a = abs(F[i] - f_theory)\n",
    "        delta = max(delta, a)\n",
    "        i += 1\n",
    "    \n",
    "    print(f\"Kolmagorov criteria:\\nLambda for binomial - {delta * (len(xx) ** 0.5)}\")\n",
    "    print(f\"Binomial probability - {kolmag(delta * (len(xx) ** 0.5))}\\n\")"
   ]
  },
  {
   "cell_type": "code",
   "execution_count": 48,
   "metadata": {},
   "outputs": [],
   "source": [
    "def check_exponential(x, lamb, xx, F):\n",
    "    \n",
    "    delta = 0\n",
    "    for i in range(0,len(xx)):\n",
    "        f_theory = F_exponential(xx[i], lamb)\n",
    "        a = abs(F[i] - f_theory)\n",
    "        delta = max(delta, a)\n",
    "        i += 1\n",
    "    \n",
    "    print(f\"Kolmagorov criteria:\\nLambda for exponential - {delta * (len(xx) ** 0.5)}\")\n",
    "    print(f\"Exponential probability - {kolmag(delta * (len(xx) ** 0.5))}\\n\")"
   ]
  },
  {
   "cell_type": "code",
   "execution_count": 49,
   "metadata": {},
   "outputs": [],
   "source": [
    "def check_normal(x, m, sigm, xx, F):\n",
    "    delta = 0\n",
    "    for i in range(0,len(xx)):\n",
    "        f_theory = F_normal(xx[i], m, sigm)\n",
    "        a = abs(F[i] - f_theory)\n",
    "        delta = max(delta, a)\n",
    "        i += 1\n",
    "        \n",
    "    print(f\"Kolmagorov criteria:\\nLambda for normal - {delta * (len(xx) ** 0.5)}\")\n",
    "    print(f\"Normal probability - {kolmag(delta * (len(xx) ** 0.5))}\\n\")"
   ]
  },
  {
   "cell_type": "code",
   "execution_count": 50,
   "metadata": {},
   "outputs": [],
   "source": [
    "def check_poisson(x, lamb, xx, F):\n",
    "    delta = 0\n",
    "    for i in range(0,len(xx)):\n",
    "        f_theory = F_poisson(xx[i], lamb)\n",
    "        a = abs(F[i] - f_theory)\n",
    "        delta = max(delta, a)\n",
    "        i += 1\n",
    "    \n",
    "    print(f\"Kolmagorov criteria:\\nLambda for poisson - {delta * (len(xx) ** 0.5)}\")\n",
    "    print(f\"Poisson probability - {kolmag(delta * (len(xx) ** 0.5))}\\n\")"
   ]
  },
  {
   "cell_type": "markdown",
   "metadata": {},
   "source": [
    "### Рассчет фyнкций рапределения для типовых законов"
   ]
  },
  {
   "cell_type": "code",
   "execution_count": 25,
   "metadata": {},
   "outputs": [],
   "source": [
    "def F_uniform(x, a, b):\n",
    "    if x < a:\n",
    "        return 0\n",
    "    \n",
    "    elif x > b:\n",
    "        return 1\n",
    "    \n",
    "    else:\n",
    "        return (x-a)/(b-a)"
   ]
  },
  {
   "cell_type": "code",
   "execution_count": 26,
   "metadata": {},
   "outputs": [],
   "source": [
    "def F_exponential(x, lamb):\n",
    "    if x <= 0:\n",
    "        return 0\n",
    "    \n",
    "    else:\n",
    "        return 1 - math.exp(-1*x*lamb)"
   ]
  },
  {
   "cell_type": "code",
   "execution_count": 27,
   "metadata": {},
   "outputs": [],
   "source": [
    "def F_normal(x, m, sigm):\n",
    "    return 0.5 + 0.5 * math.erf((x-m)/sigm)"
   ]
  },
  {
   "cell_type": "code",
   "execution_count": 28,
   "metadata": {},
   "outputs": [],
   "source": [
    "def F_geometric(x, p):\n",
    "    return 1 - (1 - p) ** x"
   ]
  },
  {
   "cell_type": "code",
   "execution_count": 29,
   "metadata": {},
   "outputs": [],
   "source": [
    "def F_binomial(x, p, n):\n",
    "    F_sum = 0\n",
    "    for i in range(0, int(x)):\n",
    "        F_sum += p**i * (1-p)**(n-i) * math.comb(n, i)\n",
    "        \n",
    "    return F_sum"
   ]
  },
  {
   "cell_type": "code",
   "execution_count": 30,
   "metadata": {},
   "outputs": [],
   "source": [
    "def F_poisson(x, lamb):\n",
    "    return lamb ** x * math.exp(-lamb) / math.factorial(abs(int(x)))"
   ]
  },
  {
   "cell_type": "markdown",
   "metadata": {},
   "source": [
    "### Рассчет доверительного интервала"
   ]
  },
  {
   "cell_type": "code",
   "execution_count": 31,
   "metadata": {},
   "outputs": [],
   "source": [
    "def confidence_interval():\n",
    "    with open(\"trust_betta.txt\", 'r') as f:\n",
    "        betta_tb = {}\n",
    "        \n",
    "        for line in f:\n",
    "            line = line.strip().split()\n",
    "            betta_tb[float(line[0])] = float(line[1])\n",
    "            \n",
    "        return betta_tb"
   ]
  },
  {
   "cell_type": "code",
   "execution_count": 32,
   "metadata": {},
   "outputs": [],
   "source": [
    "def calculate_confidence_interval(betta):\n",
    "    for bet in betta_tb.keys():\n",
    "            if bet >= betta:\n",
    "                return betta_tb[bet]\n",
    "            \n",
    "    return 0"
   ]
  },
  {
   "cell_type": "code",
   "execution_count": 33,
   "metadata": {},
   "outputs": [],
   "source": [
    "def math_exp_conf_interval(betta, M, D, n):\n",
    "    t = calculate_confidence_interval(betta)\n",
    "    return (M-t*(D/n)**0.5,M+t*(D/n)**0.5)"
   ]
  },
  {
   "cell_type": "code",
   "execution_count": 34,
   "metadata": {},
   "outputs": [],
   "source": [
    "def centr_moment4(x):\n",
    "    M = math_exp(x)\n",
    "    return sum([(i-M)**4 for i in x])/len(x)"
   ]
  },
  {
   "cell_type": "code",
   "execution_count": 35,
   "metadata": {},
   "outputs": [],
   "source": [
    "def variance_conf_interval(x, M, D, betta):\n",
    "    centr_mom4 = centr_moment4(x)\n",
    "    n = len(x)\n",
    "    t = calculate_confidence_interval(betta)\n",
    "    sigm = math.sqrt(centr_mom4/n - (n-3)/(n*(n-1))*D**2) \n",
    "    \n",
    "    return (D-t*sigm,D+t*sigm)"
   ]
  },
  {
   "cell_type": "code",
   "execution_count": 53,
   "metadata": {
    "scrolled": false
   },
   "outputs": [
    {
     "name": "stdout",
     "output_type": "stream",
     "text": [
      "Set:set_1.csv\n",
      "\n",
      "Math Expectation -  3.44078  Unbiased Variance -  10.048293474534745\n",
      "Histogramm of experimental data\n"
     ]
    },
    {
     "data": {
      "image/png": "[encoded data removed]",
      "text/plain": [
       "<Figure size 432x288 with 1 Axes>"
      ]
     },
     "metadata": {
      "needs_background": "light"
     },
     "output_type": "display_data"
    },
    {
     "name": "stdout",
     "output_type": "stream",
     "text": [
      "Uniform\n"
     ]
    },
    {
     "data": {
      "image/png": "[encoded data removed]",
      "text/plain": [
       "<Figure size 432x288 with 1 Axes>"
      ]
     },
     "metadata": {
      "needs_background": "light"
     },
     "output_type": "display_data"
    },
    {
     "name": "stdout",
     "output_type": "stream",
     "text": [
      "Kolmagorov criteria:\n",
      "Lambda for uniform - 1.0721199954062504\n",
      "Uniform probability - 0.178\n",
      "\n",
      "Exponential\n"
     ]
    },
    {
     "data": {
      "image/png": "[encoded data removed]",
      "text/plain": [
       "<Figure size 432x288 with 1 Axes>"
      ]
     },
     "metadata": {
      "needs_background": "light"
     },
     "output_type": "display_data"
    },
    {
     "name": "stdout",
     "output_type": "stream",
     "text": [
      "Kolmagorov criteria:\n",
      "Lambda for exponential - 0.6234324820822734\n",
      "Exponential probability - 0.711\n",
      "\n",
      "Normal\n"
     ]
    },
    {
     "data": {
      "image/png": "[encoded data removed]",
      "text/plain": [
       "<Figure size 432x288 with 1 Axes>"
      ]
     },
     "metadata": {
      "needs_background": "light"
     },
     "output_type": "display_data"
    },
    {
     "name": "stdout",
     "output_type": "stream",
     "text": [
      "Kolmagorov criteria:\n",
      "Lambda for normal - 1.0474931347073049\n",
      "Normal probability - 0.178\n",
      "\n",
      "Geometric\n"
     ]
    },
    {
     "data": {
      "image/png": "[encoded data removed]",
      "text/plain": [
       "<Figure size 432x288 with 1 Axes>"
      ]
     },
     "metadata": {
      "needs_background": "light"
     },
     "output_type": "display_data"
    },
    {
     "name": "stdout",
     "output_type": "stream",
     "text": [
      "p_value: 0.0\n",
      "Kolmagorov criteria:\n",
      "Lambda for geometric - 0.4212543760987397\n",
      "Geometric probability - 0.964\n",
      "\n",
      "Poisson\n"
     ]
    },
    {
     "data": {
      "image/png": "[encoded data removed]",
      "text/plain": [
       "<Figure size 432x288 with 1 Axes>"
      ]
     },
     "metadata": {
      "needs_background": "light"
     },
     "output_type": "display_data"
    },
    {
     "name": "stdout",
     "output_type": "stream",
     "text": [
      "Kolmagorov criteria:\n",
      "Lambda for poisson - 3.123962056283655\n",
      "Poisson probability - 0\n",
      "\n",
      "Binomial\n"
     ]
    },
    {
     "data": {
      "image/png": "[encoded data removed]",
      "text/plain": [
       "<Figure size 432x288 with 1 Axes>"
      ]
     },
     "metadata": {
      "needs_background": "light"
     },
     "output_type": "display_data"
    },
    {
     "name": "stdout",
     "output_type": "stream",
     "text": [
      "p_value: 0.005249820683786877\n",
      "Kolmagorov criteria:\n",
      "Lambda for binomial - 1.639855795595131\n",
      "Binomial probability - 0.006\n",
      "\n",
      "Confident interval for Math Expression: b=0.8 - (3.427929081167309, 3.4536309188326912)\n",
      "Confident interval for Variance: b=0.8 - (9.858056878022847, 10.238530071046643)\n"
     ]
    }
   ],
   "source": [
    "examine_set(\"set_1.csv\")"
   ]
  },
  {
   "cell_type": "code",
   "execution_count": 97,
   "metadata": {
    "scrolled": false
   },
   "outputs": [
    {
     "name": "stdout",
     "output_type": "stream",
     "text": [
      "Set:set_2.csv\n",
      "\n",
      "Math Expectation -  16.243283213799923  Unbiased Variance -  10928.497477401066\n",
      "Histogramm of experimental data\n"
     ]
    },
    {
     "data": {
      "image/png": "[encoded data removed]",
      "text/plain": [
       "<Figure size 432x288 with 1 Axes>"
      ]
     },
     "metadata": {
      "needs_background": "light"
     },
     "output_type": "display_data"
    },
    {
     "name": "stdout",
     "output_type": "stream",
     "text": [
      "Uniform\n"
     ]
    },
    {
     "data": {
      "image/png": "[encoded data removed]",
      "text/plain": [
       "<Figure size 432x288 with 1 Axes>"
      ]
     },
     "metadata": {
      "needs_background": "light"
     },
     "output_type": "display_data"
    },
    {
     "name": "stdout",
     "output_type": "stream",
     "text": [
      "Kolmagorov criteria:\n",
      "Lambda for uniform - 8.00885782341156\n",
      "Uniform probability - 0\n",
      "\n",
      "Exponential\n"
     ]
    },
    {
     "data": {
      "image/png": "[encoded data removed]",
      "text/plain": [
       "<Figure size 432x288 with 1 Axes>"
      ]
     },
     "metadata": {
      "needs_background": "light"
     },
     "output_type": "display_data"
    },
    {
     "name": "stdout",
     "output_type": "stream",
     "text": [
      "Kolmagorov criteria:\n",
      "Lambda for exponential - 6.158031307163029\n",
      "Exponential probability - 0\n",
      "\n",
      "Normal\n"
     ]
    },
    {
     "data": {
      "image/png": "[encoded data removed]",
      "text/plain": [
       "<Figure size 432x288 with 1 Axes>"
      ]
     },
     "metadata": {
      "needs_background": "light"
     },
     "output_type": "display_data"
    },
    {
     "name": "stdout",
     "output_type": "stream",
     "text": [
      "Kolmagorov criteria:\n",
      "Lambda for normal - 0.6422586489772922\n",
      "Normal probability - 0.711\n",
      "\n",
      "Geometric\n"
     ]
    },
    {
     "data": {
      "image/png": "[encoded data removed]",
      "text/plain": [
       "<Figure size 432x288 with 1 Axes>"
      ]
     },
     "metadata": {
      "needs_background": "light"
     },
     "output_type": "display_data"
    },
    {
     "name": "stdout",
     "output_type": "stream",
     "text": [
      "Kolmagorov criteria:\n",
      "Lambda for geometric - 4.3558026244415264e+30\n",
      "Geometric probability - 0\n",
      "\n",
      "Confident interval for Math Expression: b=0.8 - (14.903087411387153, 17.583479016212696)\n",
      "Confident interval for Variance: b=0.8 - (10453.79356193773, 11403.201392864403)\n"
     ]
    }
   ],
   "source": [
    "examine_set(\"set_2.csv\")"
   ]
  },
  {
   "cell_type": "code",
   "execution_count": 104,
   "metadata": {
    "scrolled": false
   },
   "outputs": [
    {
     "name": "stdout",
     "output_type": "stream",
     "text": [
      "Set:set_3.csv\n",
      "\n",
      "Math Expectation -  0.12448845074999948  Unbiased Variance -  0.02564569147505356\n",
      "Histogramm of experimental data\n"
     ]
    },
    {
     "data": {
      "image/png": "[encoded data removed]",
      "text/plain": [
       "<Figure size 432x288 with 1 Axes>"
      ]
     },
     "metadata": {
      "needs_background": "light"
     },
     "output_type": "display_data"
    },
    {
     "name": "stdout",
     "output_type": "stream",
     "text": [
      "Uniform\n"
     ]
    },
    {
     "data": {
      "image/png": "[encoded data removed]",
      "text/plain": [
       "<Figure size 432x288 with 1 Axes>"
      ]
     },
     "metadata": {
      "needs_background": "light"
     },
     "output_type": "display_data"
    },
    {
     "name": "stdout",
     "output_type": "stream",
     "text": [
      "Kolmagorov criteria:\n",
      "Lambda for uniform - 66.15448908549719\n",
      "Uniform probability - 0\n",
      "\n",
      "Exponential\n"
     ]
    },
    {
     "data": {
      "image/png": "[encoded data removed]",
      "text/plain": [
       "<Figure size 432x288 with 1 Axes>"
      ]
     },
     "metadata": {
      "needs_background": "light"
     },
     "output_type": "display_data"
    },
    {
     "name": "stdout",
     "output_type": "stream",
     "text": [
      "Kolmagorov criteria:\n",
      "Lambda for exponential - 0.5707908074469503\n",
      "Exponential probability - 0.864\n",
      "\n",
      "Normal\n"
     ]
    },
    {
     "data": {
      "image/png": "[encoded data removed]",
      "text/plain": [
       "<Figure size 432x288 with 1 Axes>"
      ]
     },
     "metadata": {
      "needs_background": "light"
     },
     "output_type": "display_data"
    },
    {
     "name": "stdout",
     "output_type": "stream",
     "text": [
      "Kolmagorov criteria:\n",
      "Lambda for normal - 9.293789596273822\n",
      "Normal probability - 0\n",
      "\n",
      "Confident interval for Math Expression: b=0.8 - (0.12383922575482564, 0.12513767574517332)\n",
      "Confident interval for Variance: b=0.8 - (0.025173091050424458, 0.026118291899682664)\n"
     ]
    }
   ],
   "source": [
    "examine_set(\"set_3.csv\")"
   ]
  },
  {
   "cell_type": "code",
   "execution_count": null,
   "metadata": {},
   "outputs": [],
   "source": []
  },
  {
   "cell_type": "code",
   "execution_count": null,
   "metadata": {},
   "outputs": [],
   "source": []
  },
  {
   "cell_type": "code",
   "execution_count": null,
   "metadata": {},
   "outputs": [],
   "source": []
  },
  {
   "cell_type": "code",
   "execution_count": null,
   "metadata": {},
   "outputs": [],
   "source": []
  },
  {
   "cell_type": "code",
   "execution_count": null,
   "metadata": {},
   "outputs": [],
   "source": []
  },
  {
   "cell_type": "code",
   "execution_count": null,
   "metadata": {},
   "outputs": [],
   "source": []
  },
  {
   "cell_type": "code",
   "execution_count": null,
   "metadata": {},
   "outputs": [],
   "source": []
  },
  {
   "cell_type": "code",
   "execution_count": null,
   "metadata": {},
   "outputs": [],
   "source": []
  },
  {
   "cell_type": "code",
   "execution_count": null,
   "metadata": {},
   "outputs": [],
   "source": []
  },
  {
   "cell_type": "code",
   "execution_count": null,
   "metadata": {},
   "outputs": [],
   "source": []
  },
  {
   "cell_type": "code",
   "execution_count": null,
   "metadata": {},
   "outputs": [],
   "source": []
  }
 ],
 "metadata": {
  "kernelspec": {
   "display_name": "Python 3 (ipykernel)",
   "language": "python",
   "name": "python3"
  },
  "language_info": {
   "codemirror_mode": {
    "name": "ipython",
    "version": 3
   },
   "file_extension": ".py",
   "mimetype": "text/x-python",
   "name": "python",
   "nbconvert_exporter": "python",
   "pygments_lexer": "ipython3",
   "version": "3.8.10"
  }
 },
 "nbformat": 4,
 "nbformat_minor": 4
}
